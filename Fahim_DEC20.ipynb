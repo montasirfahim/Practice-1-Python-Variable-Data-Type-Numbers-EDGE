{
  "nbformat": 4,
  "nbformat_minor": 0,
  "metadata": {
    "colab": {
      "provenance": [],
      "authorship_tag": "ABX9TyOg7aJS4H6Dfy5kWg4kuxAU",
      "include_colab_link": true
    },
    "kernelspec": {
      "name": "python3",
      "display_name": "Python 3"
    },
    "language_info": {
      "name": "python"
    }
  },
  "cells": [
    {
      "cell_type": "markdown",
      "metadata": {
        "id": "view-in-github",
        "colab_type": "text"
      },
      "source": [
        "<a href=\"https://colab.research.google.com/github/montasirfahim/Python-Practice---EDGE-Django-Course/blob/main/Fahim_DEC20.ipynb\" target=\"_parent\"><img src=\"https://colab.research.google.com/assets/colab-badge.svg\" alt=\"Open In Colab\"/></a>"
      ]
    },
    {
      "cell_type": "markdown",
      "source": [
        "**Part 1: Python Type Casting & Boolean**"
      ],
      "metadata": {
        "id": "waD9Zkp-Zafj"
      }
    },
    {
      "cell_type": "code",
      "execution_count": 26,
      "metadata": {
        "colab": {
          "base_uri": "https://localhost:8080/"
        },
        "id": "WoM_1ON7ZVV0",
        "outputId": "489e35c7-9c25-4d0d-c4b1-2dc5ebab8bec"
      },
      "outputs": [
        {
          "output_type": "stream",
          "name": "stdout",
          "text": [
            "<class 'int'> 4\n",
            "<class 'int'> -2\n",
            "<class 'int'> 34\n",
            "23.0 <class 'float'>\n",
            "176.982 <class 'float'>\n",
            "1775 <class 'str'>\n",
            "True <class 'bool'>\n",
            "False <class 'bool'>\n",
            "True False False\n"
          ]
        }
      ],
      "source": [
        "a = int(4) #explicitly mentioned that it should be considered as an integer\n",
        "b = int(-2.8353) #float --> integer\n",
        "c = int(\"34\") #string --> integer\n",
        "print(type(a), a)\n",
        "print(type(b), b)\n",
        "print(type(c), c)\n",
        "\n",
        "x = float(23)  #int --> float\n",
        "print(x, type(x))\n",
        "\n",
        "x = float(\"176.982\") #string --> float\n",
        "print(x, type(x))\n",
        "\n",
        "x = 1775 #integer by default\n",
        "y = str(x) #int --> string\n",
        "print(y, type(y))  # This should now work correctly\n",
        "\n",
        "b = bool(1) #int --> boolean\n",
        "print(b, type(b))\n",
        "\n",
        "b = bool(0) #int --> boolean\n",
        "print(b, type(b))\n",
        "\n",
        "bool1 = True\n",
        "bool2 = False\n",
        "print(bool1, bool2, bool1 & bool2)\n"
      ]
    },
    {
      "cell_type": "markdown",
      "source": [
        "**Part 2: Python String**"
      ],
      "metadata": {
        "id": "eH1BqvK4byUK"
      }
    },
    {
      "cell_type": "code",
      "source": [
        "print(\"Welcome the EDGE Class\")  #without variable\n",
        "\n",
        "str = \"Hello! This is me Fahim.\" #declared a variable to store a string\n",
        "print(str, \" #Type of this variable: \", type(str))\n",
        "\n",
        "name = \"Fahim Montasir Tuhin\" #string behaves like an Array\n",
        "print(\"Charcter at index 5: \", name[5])\n",
        "\n",
        "print(\"upper case: \", name.upper()) #upper() function converts whole string to upper case\n",
        "length = len(name)\n",
        "print(\"Length is: \", length)\n",
        "\n",
        "#loop through a string arrays:\n",
        "for i in range(0, length):\n",
        "  print(name[i].upper())  #convert whole string to UpperCase, one by one charcter\n",
        "\n",
        "#split the string into token/word:\n",
        "print(\"Splitted string into token/word: \")\n",
        "token = name.split(\" \") #use space as delimiter\n",
        "for i in token:\n",
        "  print(i)\n",
        "\n",
        "#Check if \"free\" is present in the following text:\n",
        "txt = \"The best things in life are free!\"\n",
        "print(\"\\n\", \"free\" in txt)\n",
        "\n",
        "#Get the characters from position 2 to position 5 (not included):\n",
        "b = \"Hello, World!\"\n",
        "print(b[2:5])\n",
        "\n",
        "b = \"Hello, World!\"\n",
        "print(b[:5]) #get the string from start to index 4\n",
        "\n",
        "b = \"Hello, World!\"\n",
        "print(b[-5:-2]) #Use negative indexes to start from the end of the string. From: \"o\" in \"World!\" (position -5) To, but not included: \"d\" in \"World!\"(index -2):\n",
        "\n",
        "#The strip() method removes any whitespace from the beginning or the end:\n",
        "a = \"  Hello, World!   \"\n",
        "print(a.strip()) # returns \"Hello, World!\"\n",
        "\n",
        "a = \"Hello, World!\"\n",
        "print(a.replace(\"Hello\", \"Hi\")) #The replace() method replaces a string with another string\n",
        "\n",
        "a = \"Hello\"\n",
        "b = \"World\"\n",
        "c = a + b  #concatening two strings\n",
        "print(c)\n",
        "\n",
        "a = \"Hello, World!\"\n",
        "print(a.split(\",\")) # split string by comma(,) returns ['Hello', ' World!']\n",
        "\n",
        "age = 23\n",
        "txt = f\"My name is Fahim, I am {age}\" #formatting string\n",
        "print(txt)\n",
        "\n",
        "text = \"we love Bangladesh\"\n",
        "print(text.capitalize()) #used to capitalize the first letter of a string and convert the rest of the letters to lowercase.\n",
        "\n"
      ],
      "metadata": {
        "colab": {
          "base_uri": "https://localhost:8080/"
        },
        "id": "7rd8lyS6bvIu",
        "outputId": "a686b048-e3c9-4f78-885c-9c7b3a5a8cc7"
      },
      "execution_count": 29,
      "outputs": [
        {
          "output_type": "stream",
          "name": "stdout",
          "text": [
            "Welcome the EDGE Class\n",
            "Hello! This is me Fahim.  #Type of this variable:  <class 'str'>\n",
            "Charcter at index 5:   \n",
            "upper case:  FAHIM MONTASIR TUHIN\n",
            "Length is:  20\n",
            "F\n",
            "A\n",
            "H\n",
            "I\n",
            "M\n",
            " \n",
            "M\n",
            "O\n",
            "N\n",
            "T\n",
            "A\n",
            "S\n",
            "I\n",
            "R\n",
            " \n",
            "T\n",
            "U\n",
            "H\n",
            "I\n",
            "N\n",
            "Splitted string into token/word: \n",
            "Fahim\n",
            "Montasir\n",
            "Tuhin\n",
            "\n",
            " True\n",
            "llo\n",
            "Hello\n",
            "orl\n",
            "Hello, World!\n",
            "Hi, World!\n",
            "HelloWorld\n",
            "['Hello', ' World!']\n",
            "My name is Fahim, I am 23\n",
            "We love bangladesh\n"
          ]
        }
      ]
    },
    {
      "cell_type": "markdown",
      "source": [
        "**Part 3: Python Operators**"
      ],
      "metadata": {
        "id": "eGrqK9ZKbwN2"
      }
    },
    {
      "cell_type": "code",
      "source": [
        "a = 243\n",
        "b = 67\n",
        "#Arithmetic Operators:\n",
        "print(a + b) #addition\n",
        "print(a - b) #substraction\n",
        "print(a * b) #multiplication\n",
        "print(a / b) #division\n",
        "print(a % b) #modulas --> returns remainder\n",
        "print(a ** b) #power calculation: a^b\n",
        "print(a // b) #floor division / integer division\n",
        "\n",
        "#Assignment Operators:\n",
        "a = 6\n",
        "b = 9\n",
        "a += b # a = a + b\n",
        "print(a) #15\n",
        "a /= 2 # 15/2\n",
        "print(a)\n",
        "\n",
        "#Bitwise Operators:\n",
        "b &= 2 # b = b & 2\n",
        "print(b) # 9 & 2 = 0 --> logical AND operation of 9 and 2 is: 0\n",
        "b |= 9 # OR operation: b = 0 | 9 = 9\n",
        "print(b)\n",
        "b ^= 4 #XOR : b = b ^ 4\n",
        "print(b)\n",
        "n = 15\n",
        "print(\"Not ~15: \", ~n)\n",
        "\n",
        "#Comparison Operators\n",
        "print(a == b) #returns whether value of a and b is equal or not\n",
        "print(a != b) #check a and b are different or not\n",
        "x = 5\n",
        "\n",
        "#Logical Operators:\n",
        "print(x < 5 and  x < 10) #Returns True if both statements are true\n",
        "#Returns True if any one statements are true\n",
        "print(x < 5 or  x < 10)\n",
        "\n",
        "#Identity Operators:\n",
        "x = \"@\"\n",
        "y = \"#\"\n",
        "print(\"indentity: \", x is y)  #\tReturns True if both variables are the same object\n",
        "print(\"indentity: \", x is not y) #\tReturns True if both variables are not the same object\n",
        "\n",
        "#Rounding value:\n",
        "x = 1.66666666666667777\n",
        "print(\"{:0.2f}\".format(x))\n",
        "x = 1.66666666666667777\n",
        "x = round(x, 2)\n",
        "print(x)\n",
        "print(round(x, 10)) #this is not possible anymore because, we assigned the new value of as as 1.67(2 decimal places)"
      ],
      "metadata": {
        "colab": {
          "base_uri": "https://localhost:8080/"
        },
        "id": "9uldbBYEirOl",
        "outputId": "00cc82d8-b223-4d81-b2b7-fedc9937c060"
      },
      "execution_count": 27,
      "outputs": [
        {
          "output_type": "stream",
          "name": "stdout",
          "text": [
            "310\n",
            "176\n",
            "16281\n",
            "3.626865671641791\n",
            "42\n",
            "6848892208188538287483832805385295026551067207348700786053090333322124682953755796517397310844406703021418164138549568090016503923723098786081915834717151161707\n",
            "3\n",
            "15\n",
            "7.5\n",
            "0\n",
            "9\n",
            "13\n",
            "Not ~15:  -16\n",
            "False\n",
            "True\n",
            "False\n",
            "True\n",
            "indentity:  False\n",
            "indentity:  True\n",
            "1.67\n",
            "1.67\n",
            "1.67\n"
          ]
        }
      ]
    },
    {
      "cell_type": "markdown",
      "source": [
        "**Part 4: Python Operator and Method Overloading**"
      ],
      "metadata": {
        "id": "6AMrWGVnJnx1"
      }
    },
    {
      "cell_type": "code",
      "source": [
        "#Operator Overloading: Same operator behaves differently based on operands\n",
        "a = 5\n",
        "b = 10\n",
        "print(a + b) # '+' operator for arithmatic addition\n",
        "a = \"Fahim\"\n",
        "b = \" Montasir\"\n",
        "c = a + b # here, '+' operator concatenates two strings\n",
        "print(c)\n",
        "print(3 * 4) # '*' operator multiplies 3 with 4. Output: 12\n",
        "print(\"3\" * 4) #here, '*' operator repeats the string(\"3\") as many times as specified by the integer(4). Output : 3333\n",
        "\n",
        "\n",
        "#Method Overloading: Same method behaves differently based on arguments\n",
        "class Calculator:\n",
        "    def add(self, a, b=None, c=None):  #here, b and c are optional parameters but at least one perameter a is required\n",
        "        if b is None and c is None:\n",
        "            return a\n",
        "        elif c is None:\n",
        "            return a + b\n",
        "        else:\n",
        "            return a + b + c\n",
        "\n",
        "obj = Calculator() #create an object of Calculator class\n",
        "print(obj.add(5))          # Output: 5\n",
        "print(obj.add(5, 10))      # Output: 15\n",
        "print(obj.add(5, 10, 15))  # Output: 30\n"
      ],
      "metadata": {
        "colab": {
          "base_uri": "https://localhost:8080/"
        },
        "id": "JSffVydxJmM1",
        "outputId": "050fb490-9074-4479-acd6-0b67bd9e8a28"
      },
      "execution_count": 28,
      "outputs": [
        {
          "output_type": "stream",
          "name": "stdout",
          "text": [
            "15\n",
            "Fahim Montasir\n",
            "12\n",
            "3333\n",
            "5\n",
            "15\n",
            "30\n"
          ]
        }
      ]
    }
  ]
}