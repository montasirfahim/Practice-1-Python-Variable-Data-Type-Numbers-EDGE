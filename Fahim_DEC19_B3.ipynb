{
  "cells": [
    {
      "cell_type": "markdown",
      "metadata": {
        "id": "view-in-github",
        "colab_type": "text"
      },
      "source": [
        "<a href=\"https://colab.research.google.com/github/montasirfahim/Practice-1-Python-Variable-Data-Type-Numbers-EDGE/blob/main/Fahim_DEC19_B3.ipynb\" target=\"_parent\"><img src=\"https://colab.research.google.com/assets/colab-badge.svg\" alt=\"Open In Colab\"/></a>"
      ]
    },
    {
      "cell_type": "markdown",
      "metadata": {
        "id": "J-Dt_JpkJopJ"
      },
      "source": [
        "Part 1: Python Variable"
      ]
    },
    {
      "cell_type": "code",
      "execution_count": 23,
      "metadata": {
        "colab": {
          "base_uri": "https://localhost:8080/"
        },
        "id": "SEooQevBI-Rn",
        "outputId": "496bdb3e-7423-46de-c732-223c4a1a72f2"
      },
      "outputs": [
        {
          "output_type": "stream",
          "name": "stdout",
          "text": [
            "5\n",
            "John\n",
            "9.2751\n",
            "True\n",
            "['Fahim', 'Sifat', 'Sabbir']\n",
            "('Fahim', 'Sifat', 'Sabbir')\n",
            "{'Fahim', 'Sifat', 'Sabbir'}\n"
          ]
        }
      ],
      "source": [
        "x = 5\n",
        "y = \"John\"\n",
        "z = 9.2751\n",
        "a = True\n",
        "l = [\"Fahim\", \"Sifat\", \"Sabbir\"]\n",
        "tpl = (\"Fahim\", \"Sifat\", \"Sabbir\")\n",
        "st = {\"Fahim\", \"Sifat\", \"Sabbir\"}\n",
        "print(x)\n",
        "print(y)\n",
        "print(z)\n",
        "print(a)\n",
        "print(l)\n",
        "print(tpl)\n",
        "print(st)"
      ]
    },
    {
      "cell_type": "markdown",
      "metadata": {
        "id": "ckguP9xDJuNh"
      },
      "source": [
        "Part 2: Python Data Type"
      ]
    },
    {
      "cell_type": "code",
      "execution_count": 22,
      "metadata": {
        "colab": {
          "base_uri": "https://localhost:8080/"
        },
        "id": "gFiz3A3nJf2b",
        "outputId": "7505f8bd-c59e-428c-f6d8-d8dbf00abd07"
      },
      "outputs": [
        {
          "output_type": "stream",
          "name": "stdout",
          "text": [
            "<class 'int'>\n",
            "<class 'str'>\n",
            "<class 'float'>\n",
            "<class 'bool'>\n",
            "<class 'list'>\n",
            "<class 'tuple'>\n",
            "<class 'set'>\n"
          ]
        }
      ],
      "source": [
        "x = 5\n",
        "y = \"John\"\n",
        "z = 9.2751\n",
        "a = True\n",
        "l = [\"Fahim\", \"Sifat\", \"Sabbir\"]\n",
        "tpl = (\"Fahim\", \"Sifat\", \"Sabbir\")\n",
        "st = {\"Fahim\", \"Sifat\", \"Sabbir\"}\n",
        "print(type(x))\n",
        "print(type(y))\n",
        "print(type(z))\n",
        "print(type(a))\n",
        "print(type(l))\n",
        "print(type(tpl))\n",
        "print(type(st))"
      ]
    },
    {
      "cell_type": "markdown",
      "metadata": {
        "id": "5wqclXYaKt7L"
      },
      "source": [
        "Part 3: Python Numbers"
      ]
    },
    {
      "cell_type": "code",
      "execution_count": 17,
      "metadata": {
        "colab": {
          "base_uri": "https://localhost:8080/"
        },
        "id": "cfUkv50CKse9",
        "outputId": "76c15973-9e2d-4353-e395-697fb3f22f32"
      },
      "outputs": [
        {
          "output_type": "stream",
          "name": "stdout",
          "text": [
            "<class 'float'>\n",
            "<class 'int'>\n",
            "(5+1j)\n",
            "<class 'complex'>\n",
            "441\n",
            "<class 'int'>\n"
          ]
        }
      ],
      "source": [
        "import random\n",
        "x = -87.7e100\n",
        "y = 234\n",
        "z = 5 + 1j\n",
        "randomValue = random.randrange(1, 1000)\n",
        "print(type(x))\n",
        "print(type(y))\n",
        "print(z)\n",
        "print(type(z))\n",
        "print(randomValue)\n",
        "print(type(randomValue))"
      ]
    }
  ],
  "metadata": {
    "colab": {
      "provenance": [],
      "authorship_tag": "ABX9TyOCG0dh+s3/r7STR5dq93ZV",
      "include_colab_link": true
    },
    "kernelspec": {
      "display_name": "Python 3",
      "name": "python3"
    },
    "language_info": {
      "name": "python"
    }
  },
  "nbformat": 4,
  "nbformat_minor": 0
}